{
 "cells": [
  {
   "cell_type": "code",
   "execution_count": 1,
   "metadata": {},
   "outputs": [],
   "source": [
    "import pandas as pd \n",
    "import seaborn as sns"
   ]
  },
  {
   "attachments": {},
   "cell_type": "markdown",
   "metadata": {},
   "source": [
    "Last 5 rows of the dataframe:"
   ]
  },
  {
   "cell_type": "code",
   "execution_count": 8,
   "metadata": {},
   "outputs": [
    {
     "data": {
      "text/html": [
       "<div>\n",
       "<style scoped>\n",
       "    .dataframe tbody tr th:only-of-type {\n",
       "        vertical-align: middle;\n",
       "    }\n",
       "\n",
       "    .dataframe tbody tr th {\n",
       "        vertical-align: top;\n",
       "    }\n",
       "\n",
       "    .dataframe thead th {\n",
       "        text-align: right;\n",
       "    }\n",
       "</style>\n",
       "<table border=\"1\" class=\"dataframe\">\n",
       "  <thead>\n",
       "    <tr style=\"text-align: right;\">\n",
       "      <th></th>\n",
       "      <th>year</th>\n",
       "      <th>winner</th>\n",
       "      <th>jockey</th>\n",
       "      <th>trainer</th>\n",
       "      <th>owner</th>\n",
       "      <th>distance</th>\n",
       "      <th>track_condition</th>\n",
       "      <th>time_string</th>\n",
       "      <th>time_sec</th>\n",
       "      <th>triple_crown_winner</th>\n",
       "    </tr>\n",
       "  </thead>\n",
       "  <tbody>\n",
       "    <tr>\n",
       "      <th>143</th>\n",
       "      <td>1879</td>\n",
       "      <td>Lord Murphy</td>\n",
       "      <td>Charlie Shauer</td>\n",
       "      <td>George Rice</td>\n",
       "      <td>Darden &amp; Co</td>\n",
       "      <td>1.5</td>\n",
       "      <td>Fast</td>\n",
       "      <td>02:37.0</td>\n",
       "      <td>157.00</td>\n",
       "      <td>False</td>\n",
       "    </tr>\n",
       "    <tr>\n",
       "      <th>144</th>\n",
       "      <td>1878</td>\n",
       "      <td>Day Star</td>\n",
       "      <td>Jimmy Carter</td>\n",
       "      <td>Lee Paul</td>\n",
       "      <td>Thomas J. Nichols</td>\n",
       "      <td>1.5</td>\n",
       "      <td>Fast</td>\n",
       "      <td>02:37.3</td>\n",
       "      <td>157.25</td>\n",
       "      <td>False</td>\n",
       "    </tr>\n",
       "    <tr>\n",
       "      <th>145</th>\n",
       "      <td>1877</td>\n",
       "      <td>Baden-Baden</td>\n",
       "      <td>Billy Walker</td>\n",
       "      <td>Edward D. Brown</td>\n",
       "      <td>Daniel Swigert</td>\n",
       "      <td>1.5</td>\n",
       "      <td>Fast</td>\n",
       "      <td>02:38.0</td>\n",
       "      <td>158.00</td>\n",
       "      <td>False</td>\n",
       "    </tr>\n",
       "    <tr>\n",
       "      <th>146</th>\n",
       "      <td>1876</td>\n",
       "      <td>Vagrant</td>\n",
       "      <td>Robert Swim</td>\n",
       "      <td>James Williams</td>\n",
       "      <td>William Astor Jr.</td>\n",
       "      <td>1.5</td>\n",
       "      <td>Fast</td>\n",
       "      <td>02:38.3</td>\n",
       "      <td>158.25</td>\n",
       "      <td>False</td>\n",
       "    </tr>\n",
       "    <tr>\n",
       "      <th>147</th>\n",
       "      <td>1875</td>\n",
       "      <td>Aristides</td>\n",
       "      <td>Oliver Lewis</td>\n",
       "      <td>Ansel Williamson</td>\n",
       "      <td>H. Price McGrath</td>\n",
       "      <td>1.5</td>\n",
       "      <td>Fast</td>\n",
       "      <td>02:37.7</td>\n",
       "      <td>157.75</td>\n",
       "      <td>False</td>\n",
       "    </tr>\n",
       "  </tbody>\n",
       "</table>\n",
       "</div>"
      ],
      "text/plain": [
       "     year       winner          jockey           trainer              owner  \\\n",
       "143  1879  Lord Murphy  Charlie Shauer       George Rice        Darden & Co   \n",
       "144  1878     Day Star    Jimmy Carter          Lee Paul  Thomas J. Nichols   \n",
       "145  1877  Baden-Baden    Billy Walker   Edward D. Brown     Daniel Swigert   \n",
       "146  1876      Vagrant     Robert Swim    James Williams  William Astor Jr.   \n",
       "147  1875    Aristides    Oliver Lewis  Ansel Williamson   H. Price McGrath   \n",
       "\n",
       "     distance track_condition time_string  time_sec  triple_crown_winner  \n",
       "143       1.5            Fast     02:37.0    157.00                False  \n",
       "144       1.5            Fast     02:37.3    157.25                False  \n",
       "145       1.5            Fast     02:38.0    158.00                False  \n",
       "146       1.5            Fast     02:38.3    158.25                False  \n",
       "147       1.5            Fast     02:37.7    157.75                False  "
      ]
     },
     "execution_count": 8,
     "metadata": {},
     "output_type": "execute_result"
    }
   ],
   "source": [
    "df = pd.read_csv('assets/KYDerby.csv')\n",
    "df.tail()"
   ]
  },
  {
   "attachments": {},
   "cell_type": "markdown",
   "metadata": {},
   "source": [
    "Scatter Plot to show the corralation with horses getting faster throughout time:"
   ]
  },
  {
   "cell_type": "code",
   "execution_count": 9,
   "metadata": {},
   "outputs": [
    {
     "data": {
      "text/plain": [
       "<Axes: xlabel='year', ylabel='time_sec'>"
      ]
     },
     "execution_count": 9,
     "metadata": {},
     "output_type": "execute_result"
    },
    {
     "data": {
      "image/png": "[encoded data removed]",
      "text/plain": [
       "<Figure size 640x480 with 1 Axes>"
      ]
     },
     "metadata": {},
     "output_type": "display_data"
    }
   ],
   "source": [
    "sns.scatterplot(x=df['year'],\n",
    "                y=df['time_sec'])"
   ]
  },
  {
   "attachments": {},
   "cell_type": "markdown",
   "metadata": {},
   "source": [
    "<matplotlib.axes._subplots.AxesSubplot at 0x7fd874fa6190>"
   ]
  }
 ],
 "metadata": {
  "kernelspec": {
   "display_name": "virenv",
   "language": "python",
   "name": "python3"
  },
  "language_info": {
   "codemirror_mode": {
    "name": "ipython",
    "version": 3
   },
   "file_extension": ".py",
   "mimetype": "text/x-python",
   "name": "python",
   "nbconvert_exporter": "python",
   "pygments_lexer": "ipython3",
   "version": "3.11.1"
  },
  "orig_nbformat": 4
 },
 "nbformat": 4,
 "nbformat_minor": 2
}
